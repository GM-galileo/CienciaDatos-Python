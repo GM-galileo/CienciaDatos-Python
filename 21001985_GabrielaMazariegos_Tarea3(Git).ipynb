{
 "cells": [
  {
   "cell_type": "markdown",
   "metadata": {},
   "source": [
    "# <font color=blue>**FUNCIONES EN PYTHON**</font>\n",
    "\n",
    "## <font color=blue>**1- FUNCIONES**</font>\n",
    "\n",
    "\n",
    ">Las funciones se pueden definir como un bloque de código  reusable, que ayuda a resolver un problema específico  dadas ciertas instrucciones. Las funciones pueden o no recibir argumentos y  se ejecutan cuando son necesarias para obtener un resultado y/o realizar una tarea dependiendo la necesidad  del usuario.\n",
    "\n",
    ">**FUNCIONES PRE DEFINIDAS**: Python  cuenta con funciones predefinidas que son de ayuda mucha ayuda ya que permiten al usuario utilizarlas sin tener que crear el código. Un ejemplo seria la obtención  del número  mayor en una lista utilizando la función  \"max()\" que provee Python. \n"
   ]
  },
  {
   "cell_type": "code",
   "execution_count": 1,
   "metadata": {},
   "outputs": [
    {
     "name": "stdout",
     "output_type": "stream",
     "text": [
      "78\n"
     ]
    }
   ],
   "source": [
    "lista = [78, 1, 52, 6] \n",
    "print(max(lista))"
   ]
  },
  {
   "cell_type": "markdown",
   "metadata": {},
   "source": [
    ">Para ver que otras funciones por defecto se pueden utilizar podemos consultar la documentación de [Python](https://docs.python.org/3/library/functions.html) para obtener más información o para ver su utilización. De igual manera si se sabe las funciones, pero se quiere obtener más detalle se pueden utilizar comandos como \"help” o \"?\" para desplegar su información en Python"
   ]
  },
  {
   "cell_type": "code",
   "execution_count": 2,
   "metadata": {},
   "outputs": [
    {
     "data": {
      "text/plain": [
       "\u001b[1;31mDocstring:\u001b[0m\n",
       "max(iterable, *[, default=obj, key=func]) -> value\n",
       "max(arg1, arg2, *args, *[, key=func]) -> value\n",
       "\n",
       "With a single iterable argument, return its biggest item. The\n",
       "default keyword-only argument specifies an object to return if\n",
       "the provided iterable is empty.\n",
       "With two or more arguments, return the largest argument.\n",
       "\u001b[1;31mType:\u001b[0m      builtin_function_or_method\n"
      ]
     },
     "metadata": {},
     "output_type": "display_data"
    }
   ],
   "source": [
    "?max"
   ]
  },
  {
   "cell_type": "code",
   "execution_count": 3,
   "metadata": {},
   "outputs": [
    {
     "name": "stdout",
     "output_type": "stream",
     "text": [
      "Help on built-in function max in module builtins:\n",
      "\n",
      "max(...)\n",
      "    max(iterable, *[, default=obj, key=func]) -> value\n",
      "    max(arg1, arg2, *args, *[, key=func]) -> value\n",
      "    \n",
      "    With a single iterable argument, return its biggest item. The\n",
      "    default keyword-only argument specifies an object to return if\n",
      "    the provided iterable is empty.\n",
      "    With two or more arguments, return the largest argument.\n",
      "\n"
     ]
    }
   ],
   "source": [
    "help(max)"
   ]
  },
  {
   "cell_type": "markdown",
   "metadata": {},
   "source": [
    ">**FUNCIONES DEFINIDAS POR EL USUARIO**: Python también permite la creación de funciones para la resolución de problemas específicos de un usuario e utilización en distintas partes del código cuando sea necesitada. Este tipo de funciones puede llegar a facilitar la escritura de código, ya que permiten la segmentación de problemas complejos en pequeñas partes. \n",
    "\n",
    ">Las funciones son objetos en Python y siguen el siguiente formato de definición:\n",
    "\n",
    "- \"def\" -> Palabra reservada que se utiliza para la definición de una función.\n",
    "- \"Nombre función\" -> Nombre por el cual será llamada la funcionalidad\n",
    "- \"(Parámetros)\" -> Definición de 0 o más parámetros a ser necesarios\n",
    "- \"Bloque de Código\" -> Sentencias de código a ejecutar cuando la función es llamada\n",
    "- \"Resultado\"/\"Return\" -> Valor generado y devuelto por la función\n"
   ]
  },
  {
   "cell_type": "code",
   "execution_count": 4,
   "metadata": {},
   "outputs": [
    {
     "name": "stdout",
     "output_type": "stream",
     "text": [
      "Fuera de funcion\n"
     ]
    }
   ],
   "source": [
    "#Ejemplo 1\n",
    "def FuncionPrueba():#def define la función, \"FuncionPrueba\" es el nombre, \"()\" indica que no hay parametros definidos, y \":\" indica el fin de la primera línea y comienzo de las sentencias\n",
    "    \"FUNCION DE PRUEBA 1\" #Variable docsting \"__doc__\", permite descripción del objeto, para funciones es el primer comentario luego de la primera línea de declaración\n",
    "    a =\"PRIMERA FUNCION\" #Sentencia de Código (bloque) \n",
    "    print(a) #Resultado a devolver\n",
    "    #Todo el Código que pertenece a una función debe estar indentado\n",
    "print(\"Fuera de funcion\") #Esta línea se imprime ya que no pertenece a la función definida (indentada fuera)"
   ]
  },
  {
   "cell_type": "code",
   "execution_count": 5,
   "metadata": {},
   "outputs": [
    {
     "name": "stdout",
     "output_type": "stream",
     "text": [
      "PRIMERA FUNCION\n"
     ]
    }
   ],
   "source": [
    "#Llamada a la función\n",
    "FuncionPrueba()"
   ]
  },
  {
   "cell_type": "code",
   "execution_count": 6,
   "metadata": {},
   "outputs": [
    {
     "name": "stdout",
     "output_type": "stream",
     "text": [
      "Help on function FuncionPrueba in module __main__:\n",
      "\n",
      "FuncionPrueba()\n",
      "    FUNCION DE PRUEBA 1\n",
      "\n"
     ]
    }
   ],
   "source": [
    "help(FuncionPrueba)"
   ]
  },
  {
   "cell_type": "code",
   "execution_count": 7,
   "metadata": {},
   "outputs": [],
   "source": [
    "#Ejemplo 2\n",
    "def MaxMinSuma(Lista): #Recibe como parámetro una lista\n",
    "    \"Obtiene el máximo y mínimo de una lista y devuelve la suma de los dos valores\" \n",
    "    maximo = max(Lista)\n",
    "    minimo = min(Lista)\n",
    "    \n",
    "    return (maximo + minimo) #Devuelve la suma del máximo y mínimo"
   ]
  },
  {
   "cell_type": "code",
   "execution_count": 8,
   "metadata": {},
   "outputs": [
    {
     "data": {
      "text/plain": [
       "79"
      ]
     },
     "execution_count": 8,
     "metadata": {},
     "output_type": "execute_result"
    }
   ],
   "source": [
    "MaxMinSuma([78, 1, 52, 6] )"
   ]
  },
  {
   "cell_type": "markdown",
   "metadata": {},
   "source": [
    "## <font color=blue>**2- PARAMETROS POSISIONALES**</font>\n",
    "\n",
    ">Los parámetros en Python pueden ser pasados a una función por el orden en como fueron definidos, cuando son utilizados de esta manera les llamamos \"parámetros posicionales\" o \"por posición\"\n"
   ]
  },
  {
   "cell_type": "code",
   "execution_count": 9,
   "metadata": {},
   "outputs": [],
   "source": [
    "#Ejemplo 1\n",
    "def MasaCorporal(Estatura, Peso):\n",
    "    \"Calcula el incide de masa corporal de una persona, Peso Kilogramos, Estatura Metros\"\n",
    "    \n",
    "    IMC = Peso/(Estatura**2)\n",
    "    \n",
    "    return IMC"
   ]
  },
  {
   "cell_type": "code",
   "execution_count": 10,
   "metadata": {},
   "outputs": [
    {
     "name": "stdout",
     "output_type": "stream",
     "text": [
      "19.94805976890361\n"
     ]
    }
   ],
   "source": [
    "print (MasaCorporal(1.63, 53))  #En este caso el primer valor pasado para la funcion hace referencia a la Estatura, y el segundo valor hace referencia al peso"
   ]
  },
  {
   "cell_type": "code",
   "execution_count": 11,
   "metadata": {},
   "outputs": [
    {
     "name": "stdout",
     "output_type": "stream",
     "text": [
      "0.0005802776788892844\n"
     ]
    }
   ],
   "source": [
    "print (MasaCorporal(53, 1.63)) #Por lo cual si se intercambian los valores el resultado obtenido es incorrecto"
   ]
  },
  {
   "cell_type": "markdown",
   "metadata": {},
   "source": [
    "> Python permite definir funciones con parámetros no definidos o indeterminados que pueden ser accedidos por medio de orden de definición (tupla)"
   ]
  },
  {
   "cell_type": "code",
   "execution_count": 12,
   "metadata": {},
   "outputs": [],
   "source": [
    "def ListadoInformacion(*info):\n",
    "    for i in info:\n",
    "        print(i)"
   ]
  },
  {
   "cell_type": "code",
   "execution_count": 13,
   "metadata": {},
   "outputs": [
    {
     "name": "stdout",
     "output_type": "stream",
     "text": [
      "Informacion\n",
      "100\n",
      "1.3\n",
      "T\n"
     ]
    }
   ],
   "source": [
    "ListadoInformacion(\"Informacion\",100,1.3,\"T\" )"
   ]
  },
  {
   "cell_type": "markdown",
   "metadata": {},
   "source": [
    "## <font color=blue>**3- PARAMETROS NOMBRADOS**</font>\n",
    "\n",
    "> Python permite cambiar el orden en como enviamos los parámetros de la función utilizando explícitamente el nombre del parámetro cuando hacemos el llamado.\n"
   ]
  },
  {
   "cell_type": "code",
   "execution_count": 14,
   "metadata": {},
   "outputs": [
    {
     "name": "stdout",
     "output_type": "stream",
     "text": [
      "19.94805976890361\n"
     ]
    }
   ],
   "source": [
    "print (MasaCorporal(Peso=53,Estatura= 1.63)) #Ya que estamos pasando el nombre del parametro explicitamente Pythonn reconoce los valores y como utilizarlos, y se obtiene nuevamente el valor correcto"
   ]
  },
  {
   "cell_type": "markdown",
   "metadata": {},
   "source": [
    ">De igual manera de pueden acceder y definir funciones con parámetros no definidos o indeterminados por medio de su nombre, en este caso se utiliza diccionarios para la asignación de nombre (clave) y valor"
   ]
  },
  {
   "cell_type": "code",
   "execution_count": 15,
   "metadata": {},
   "outputs": [],
   "source": [
    "def ListadoInformacion2(**info):\n",
    "    print(info)"
   ]
  },
  {
   "cell_type": "code",
   "execution_count": 16,
   "metadata": {},
   "outputs": [
    {
     "name": "stdout",
     "output_type": "stream",
     "text": [
      "{'a': 'Informacion', 'b': 100, 'c': 1.3, 'd': 'T'}\n"
     ]
    }
   ],
   "source": [
    "ListadoInformacion2(a=\"Informacion\",b=100,c=1.3,d=\"T\")"
   ]
  },
  {
   "cell_type": "markdown",
   "metadata": {},
   "source": [
    "## <font color=blue>**4- RETORNO DE MULTIPLES VALORES**</font>\n",
    "\n",
    ">Python permite el retorno de un valor o muchos valores a través de una función, esto es posible debido a que el resultado es devuelto como un tipo de objeto \"tupla\" de tamaño n."
   ]
  },
  {
   "cell_type": "code",
   "execution_count": 17,
   "metadata": {},
   "outputs": [],
   "source": [
    "def MasaCorporal2(Estatura, Peso):\n",
    "    \"Calcula el incide de masa corporal de una persona, Peso Kilogramos, Estatura Metros\"\n",
    "    Desc = \"\"\n",
    "    IMC = Peso/(Estatura**2)\n",
    "    \n",
    "    if IMC <= 18.4:\n",
    "        Desc = \"Insuficiencia Ponderal\"\n",
    "    elif IMC>18.5 and IMC <= 24.9:\n",
    "        Desc = \"Normal\"\n",
    "    elif IMC>25 and IMC <= 29.9:\n",
    "        Desc = \"Sobrepeso\"\n",
    "    elif IMC>30 and IMC <= 34.9:\n",
    "        Desc = \"Obesidad I\"\n",
    "    elif IMC>35 and IMC <= 39.9:\n",
    "        Desc = \"Obesidad II\"\n",
    "    else:\n",
    "        Desc = \"Obesidad III\"   \n",
    "        \n",
    "    \n",
    "    return (IMC, Desc)"
   ]
  },
  {
   "cell_type": "code",
   "execution_count": 18,
   "metadata": {},
   "outputs": [
    {
     "name": "stdout",
     "output_type": "stream",
     "text": [
      "<class 'tuple'>\n"
     ]
    }
   ],
   "source": [
    "print(type(MasaCorporal2(1.63, 53)))"
   ]
  },
  {
   "cell_type": "code",
   "execution_count": 19,
   "metadata": {},
   "outputs": [
    {
     "data": {
      "text/plain": [
       "(19.94805976890361, 'Normal')"
      ]
     },
     "execution_count": 19,
     "metadata": {},
     "output_type": "execute_result"
    }
   ],
   "source": [
    "MasaCorporal2(1.63, 53)"
   ]
  },
  {
   "cell_type": "markdown",
   "metadata": {},
   "source": [
    ">Estos valores pueden reasignarse a distintas variables "
   ]
  },
  {
   "cell_type": "code",
   "execution_count": 20,
   "metadata": {},
   "outputs": [
    {
     "name": "stdout",
     "output_type": "stream",
     "text": [
      "19.94805976890361\n",
      "Normal\n"
     ]
    }
   ],
   "source": [
    "IMC, Descripcion= MasaCorporal2(1.63, 53)\n",
    "print(IMC)\n",
    "print(Descripcion)"
   ]
  },
  {
   "cell_type": "markdown",
   "metadata": {},
   "source": [
    "## <font color=blue>**5- FUNCIONES COMO OBJETO Y PARAMETROS DE OTRAS FUNCIONES**</font>\n",
    "\n",
    ">Todas las funciones en Python son objetos y pueden ser utilizados como parámetros de otras funciones (ya que los parámetros de una función son objetos).\n"
   ]
  },
  {
   "cell_type": "code",
   "execution_count": 21,
   "metadata": {},
   "outputs": [],
   "source": [
    "#Ejemplo 1 - Recibiendo resultado de una funcion\n",
    "def MensajeMotivacional(InfoIMC):\n",
    "   \n",
    "    if InfoIMC[1]==\"Insuficiencia Ponderal\":\n",
    "        print(\"Debes subir de peso\")\n",
    "    elif InfoIMC[1]==\"Normal\":\n",
    "        print(\"Sigue asi!!\")\n",
    "    elif InfoIMC[1]==\"Sobrepeso\":\n",
    "        print(\"Debes mejorar tu salud\")\n",
    "    elif InfoIMC[1]== \"Obesidad I\":\n",
    "        print(\"Alerta I - Debes mejorar tu salud\")\n",
    "    elif InfoIMC[1]== \"Obesidad II\":\n",
    "        print(\"Alerta II - Debes mejorar tu salud\")\n",
    "    else:\n",
    "        print(\"Alerta III - Debes mejorar tu salud\")\n",
    "    \n",
    "    "
   ]
  },
  {
   "cell_type": "code",
   "execution_count": 22,
   "metadata": {},
   "outputs": [
    {
     "name": "stdout",
     "output_type": "stream",
     "text": [
      "Sigue asi!!\n"
     ]
    }
   ],
   "source": [
    "MensajeMotivacional(MasaCorporal2(1.63, 53))"
   ]
  },
  {
   "cell_type": "code",
   "execution_count": 23,
   "metadata": {},
   "outputs": [],
   "source": [
    "#Ejemplo 2 - Recibiendo funcion como parametro\n",
    "def MensajeMotivacional2(InfoIMC, Est, Pe):\n",
    "    IMC, Descripcion=  InfoIMC(Est,Pe)\n",
    "    \n",
    "    if Descripcion==\"Insuficiencia Ponderal\":\n",
    "        print(\"Debes subir de peso\")\n",
    "    elif Descripcion==\"Normal\":\n",
    "        print(\"Sigue asi!!\")\n",
    "    elif Descripcion==\"Sobrepeso\":\n",
    "        print(\"Debes mejorar tu salud\")\n",
    "    elif Descripcion== \"Obesidad I\":\n",
    "        print(\"Alerta I - Debes mejorar tu salud\")\n",
    "    elif Descripcion== \"Obesidad II\":\n",
    "        print(\"Alerta II - Debes mejorar tu salud\")\n",
    "    else:\n",
    "        print(\"Alerta III - Debes mejorar tu salud\")\n",
    "    "
   ]
  },
  {
   "cell_type": "code",
   "execution_count": 24,
   "metadata": {},
   "outputs": [
    {
     "name": "stdout",
     "output_type": "stream",
     "text": [
      "Sigue asi!!\n"
     ]
    }
   ],
   "source": [
    "MensajeMotivacional2(MasaCorporal2,1.63, 53)"
   ]
  },
  {
   "cell_type": "code",
   "execution_count": 25,
   "metadata": {},
   "outputs": [
    {
     "name": "stdout",
     "output_type": "stream",
     "text": [
      "176\n",
      "[2, 4, 6, 8]\n"
     ]
    }
   ],
   "source": [
    "#Ejemplo3\n",
    "def Suma(num):\n",
    "    return num+num\n",
    "\n",
    "x = Suma   #Se pueden asignar las funciones a una variable y luego ser utilizadas\n",
    "Snum = x(88)\n",
    "print(Snum)\n",
    "\n",
    "lista = [1,2,3,4]\n",
    "#La funcion map devuelve resultado de la aplicacion de una funcion sobre un objeto iterable\n",
    "y = list(map(x,lista))#Se pueden pasar la funcion como objeto para ser utilizada dentro de otra funcion\n",
    "print(y)"
   ]
  },
  {
   "cell_type": "markdown",
   "metadata": {},
   "source": [
    "## <font color=blue>**6- FUNCIONES ANONIMAS O LAMBDA**</font>\n",
    "\n",
    ">Python tiene otro tipo de funciones llamadas lambda o anónimas (carecen de nombre), que permiten crear funciones simples y pequeñas en una sola línea de código. A diferencia de las funciones definidas por usuarios, las funciones lambdas no usan la palabra definida \"def\" para su creación.\n",
    "\n",
    ">Este tipo de funciones siguen la siguiente estructura \"lambda x,y: x+ y\" donde:\n",
    "- \"lambda\": Palabra que define la función\n",
    "- \"Parámetros: Separados por comas (x,y)\n",
    "- \"Expresión\": Código a ejecutar\n",
    "\n",
    "> Para hacer uso de este tipo de funciones es necesario almacenar su valor en una variable, que pueda ser accedida posteriormente.\n"
   ]
  },
  {
   "cell_type": "code",
   "execution_count": 26,
   "metadata": {},
   "outputs": [
    {
     "data": {
      "text/plain": [
       "<function __main__.<lambda>(x, y)>"
      ]
     },
     "execution_count": 26,
     "metadata": {},
     "output_type": "execute_result"
    }
   ],
   "source": [
    "lambda x,y : x+y"
   ]
  },
  {
   "cell_type": "code",
   "execution_count": 27,
   "metadata": {},
   "outputs": [
    {
     "data": {
      "text/plain": [
       "825"
      ]
     },
     "execution_count": 27,
     "metadata": {},
     "output_type": "execute_result"
    }
   ],
   "source": [
    "#Ejemplo1\n",
    "\n",
    "Suma = lambda x,y : x+y\n",
    "Suma(45,780)"
   ]
  },
  {
   "cell_type": "code",
   "execution_count": 28,
   "metadata": {},
   "outputs": [
    {
     "name": "stdout",
     "output_type": "stream",
     "text": [
      "[80, 78, 2, 4]\n"
     ]
    }
   ],
   "source": [
    "#Ejemplo2\n",
    "\n",
    "Numeros = [15,80,45,78,63,2,4,789]\n",
    "Pares = filter(lambda x: x % 2 == 0, Numeros)\n",
    "print(list(Pares))"
   ]
  },
  {
   "cell_type": "markdown",
   "metadata": {},
   "source": [
    "**Referencias**\n",
    "- https://docs.python.org/3/\n",
    "- https://entrenamiento-python-basico.readthedocs.io/es/latest/leccion5/funciones.html\n",
    "- https://devcode.la/tutoriales/funciones-en-python/\n",
    "- https://docs.python.org/3/library/functions.html\n",
    "- https://realpython.com/python-lambda/\n",
    "- https://www.youtube.com/watch?v=df6ZWB0cpGk\n",
    "- https://www.youtube.com/watch?v=-fQ-bRllhXc\n",
    "- https://www.youtube.com/watch?v=QaOHeMnpnmU"
   ]
  },
  {
   "cell_type": "code",
   "execution_count": null,
   "metadata": {},
   "outputs": [],
   "source": []
  }
 ],
 "metadata": {
  "kernelspec": {
   "display_name": "Python 3",
   "language": "python",
   "name": "python3"
  },
  "language_info": {
   "codemirror_mode": {
    "name": "ipython",
    "version": 3
   },
   "file_extension": ".py",
   "mimetype": "text/x-python",
   "name": "python",
   "nbconvert_exporter": "python",
   "pygments_lexer": "ipython3",
   "version": "3.8.5"
  }
 },
 "nbformat": 4,
 "nbformat_minor": 4
}
